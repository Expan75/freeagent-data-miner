{
 "cells": [
  {
   "cell_type": "markdown",
   "metadata": {},
   "source": [
    "## Description of Notebook\n",
    "\n",
    "This notebook is the container for the model training/selection that we use to predict review score given content. The model used will be simple and will later be used as our baseline model for further extensions."
   ]
  },
  {
   "cell_type": "code",
   "execution_count": 2,
   "metadata": {
    "scrolled": true
   },
   "outputs": [
    {
     "name": "stdout",
     "output_type": "stream",
     "text": [
      "Requirement already satisfied: tensorflow_datasets in /Users/Erik/Dev/freeagent/miner-proto/lib/python3.6/site-packages (2.0.0)\n",
      "Requirement already satisfied: six in /Users/Erik/Dev/freeagent/miner-proto/lib/python3.6/site-packages (from tensorflow_datasets) (1.14.0)\n",
      "Requirement already satisfied: tensorflow-metadata in /Users/Erik/Dev/freeagent/miner-proto/lib/python3.6/site-packages (from tensorflow_datasets) (0.21.1)\n",
      "Requirement already satisfied: promise in /Users/Erik/Dev/freeagent/miner-proto/lib/python3.6/site-packages (from tensorflow_datasets) (2.3)\n",
      "Requirement already satisfied: absl-py in /Users/Erik/Dev/freeagent/miner-proto/lib/python3.6/site-packages (from tensorflow_datasets) (0.9.0)\n",
      "Requirement already satisfied: numpy in /Users/Erik/Dev/freeagent/miner-proto/lib/python3.6/site-packages (from tensorflow_datasets) (1.18.1)\n",
      "Requirement already satisfied: future in /Users/Erik/Dev/freeagent/miner-proto/lib/python3.6/site-packages (from tensorflow_datasets) (0.18.2)\n",
      "Requirement already satisfied: termcolor in /Users/Erik/Dev/freeagent/miner-proto/lib/python3.6/site-packages (from tensorflow_datasets) (1.1.0)\n",
      "Requirement already satisfied: requests>=2.19.0 in /Users/Erik/Dev/freeagent/miner-proto/lib/python3.6/site-packages (from tensorflow_datasets) (2.22.0)\n",
      "Requirement already satisfied: tqdm in /Users/Erik/Dev/freeagent/miner-proto/lib/python3.6/site-packages (from tensorflow_datasets) (4.43.0)\n",
      "Requirement already satisfied: dill in /Users/Erik/Dev/freeagent/miner-proto/lib/python3.6/site-packages (from tensorflow_datasets) (0.3.1.1)\n",
      "Requirement already satisfied: protobuf>=3.6.1 in /Users/Erik/Dev/freeagent/miner-proto/lib/python3.6/site-packages (from tensorflow_datasets) (3.11.3)\n",
      "Requirement already satisfied: attrs>=18.1.0 in /Users/Erik/Dev/freeagent/miner-proto/lib/python3.6/site-packages (from tensorflow_datasets) (19.3.0)\n",
      "Requirement already satisfied: wrapt in /Users/Erik/Dev/freeagent/miner-proto/lib/python3.6/site-packages (from tensorflow_datasets) (1.12.0)\n",
      "Requirement already satisfied: googleapis-common-protos in /Users/Erik/Dev/freeagent/miner-proto/lib/python3.6/site-packages (from tensorflow-metadata->tensorflow_datasets) (1.51.0)\n",
      "Requirement already satisfied: idna<2.9,>=2.5 in /Users/Erik/Dev/freeagent/miner-proto/lib/python3.6/site-packages (from requests>=2.19.0->tensorflow_datasets) (2.8)\n",
      "Requirement already satisfied: certifi>=2017.4.17 in /Users/Erik/Dev/freeagent/miner-proto/lib/python3.6/site-packages (from requests>=2.19.0->tensorflow_datasets) (2019.11.28)\n",
      "Requirement already satisfied: urllib3!=1.25.0,!=1.25.1,<1.26,>=1.21.1 in /Users/Erik/Dev/freeagent/miner-proto/lib/python3.6/site-packages (from requests>=2.19.0->tensorflow_datasets) (1.25.8)\n",
      "Requirement already satisfied: chardet<3.1.0,>=3.0.2 in /Users/Erik/Dev/freeagent/miner-proto/lib/python3.6/site-packages (from requests>=2.19.0->tensorflow_datasets) (3.0.4)\n",
      "Requirement already satisfied: setuptools in /Users/Erik/Dev/freeagent/miner-proto/lib/python3.6/site-packages (from protobuf>=3.6.1->tensorflow_datasets) (45.2.0)\n"
     ]
    }
   ],
   "source": [
    "!pip install tensorflow_datasets"
   ]
  },
  {
   "cell_type": "code",
   "execution_count": 5,
   "metadata": {},
   "outputs": [
    {
     "ename": "ModuleNotFoundError",
     "evalue": "No module named 'tensorflow_datasets'",
     "output_type": "error",
     "traceback": [
      "\u001b[0;31m---------------------------------------------------------------------------\u001b[0m",
      "\u001b[0;31mModuleNotFoundError\u001b[0m                       Traceback (most recent call last)",
      "\u001b[0;32m<ipython-input-5-94d761763059>\u001b[0m in \u001b[0;36m<module>\u001b[0;34m\u001b[0m\n\u001b[1;32m      3\u001b[0m \u001b[0;31m# Big Imports\u001b[0m\u001b[0;34m\u001b[0m\u001b[0;34m\u001b[0m\u001b[0m\n\u001b[1;32m      4\u001b[0m \u001b[0;32mimport\u001b[0m \u001b[0mtensorflow\u001b[0m \u001b[0;32mas\u001b[0m \u001b[0mtf\u001b[0m\u001b[0;34m\u001b[0m\u001b[0m\n\u001b[0;32m----> 5\u001b[0;31m \u001b[0;32mimport\u001b[0m \u001b[0mtensorflow_datasets\u001b[0m \u001b[0;32mas\u001b[0m \u001b[0mtfds\u001b[0m\u001b[0;34m\u001b[0m\u001b[0m\n\u001b[0m\u001b[1;32m      6\u001b[0m \u001b[0;32mimport\u001b[0m \u001b[0mnumpy\u001b[0m \u001b[0;32mas\u001b[0m \u001b[0mnp\u001b[0m\u001b[0;34m\u001b[0m\u001b[0m\n\u001b[1;32m      7\u001b[0m \u001b[0;32mimport\u001b[0m \u001b[0mpandas\u001b[0m \u001b[0;32mas\u001b[0m \u001b[0mpd\u001b[0m\u001b[0;34m\u001b[0m\u001b[0m\n",
      "\u001b[0;31mModuleNotFoundError\u001b[0m: No module named 'tensorflow_datasets'"
     ]
    }
   ],
   "source": [
    "# Core Imports\n",
    "\n",
    "# Big Imports\n",
    "import tensorflow.compat.v2 as tf\n",
    "import tensorflow_datasets as tfds\n",
    "import numpy as np\n",
    "import pandas as pd\n",
    "import seaborn as sns\n",
    "\n",
    "# Data Imports\n",
    "train_data, validation_data, test_data = tfds.load(\n",
    "    name=\"imdb_reviews\",\n",
    "    split=(\"train[:70]\", \"train[70%]\", \"test\"),\n",
    "    as_supervised=True)"
   ]
  },
  {
   "cell_type": "code",
   "execution_count": 6,
   "metadata": {},
   "outputs": [
    {
     "data": {
      "text/plain": [
       "'/Library/Frameworks/Python.framework/Versions/3.6/bin/python3'"
      ]
     },
     "execution_count": 6,
     "metadata": {},
     "output_type": "execute_result"
    }
   ],
   "source": [
    "import sys\n",
    "sys.executable"
   ]
  },
  {
   "cell_type": "code",
   "execution_count": null,
   "metadata": {},
   "outputs": [],
   "source": []
  }
 ],
 "metadata": {
  "kernelspec": {
   "display_name": "Python 3",
   "language": "python",
   "name": "python3"
  },
  "language_info": {
   "codemirror_mode": {
    "name": "ipython",
    "version": 3
   },
   "file_extension": ".py",
   "mimetype": "text/x-python",
   "name": "python",
   "nbconvert_exporter": "python",
   "pygments_lexer": "ipython3",
   "version": "3.6.1"
  }
 },
 "nbformat": 4,
 "nbformat_minor": 4
}
